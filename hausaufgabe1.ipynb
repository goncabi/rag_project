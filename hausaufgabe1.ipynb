{
 "cells": [
  {
   "cell_type": "code",
   "execution_count": 1,
   "id": "e43b977d-3643-4d1f-85db-be2880b680b4",
   "metadata": {},
   "outputs": [
    {
     "name": "stdout",
     "output_type": "stream",
     "text": [
      "Hello world, I am coding in Python!\n",
      "1: Ada Lovelace is considered the first computer programmer for her work on Charles Babbage's Analytical Engine.\n",
      "2: Grace Hopper was a pioneer in computer programming and developed the first compiler for a computer programming language.\n",
      "3: Katherine Johnson was a mathematician whose calculations of orbital mechanics were critical to the success of NASA's space missions.\n",
      "4: Radia Perlman is known as the 'Mother of the Internet' for her invention of the spanning-tree protocol (STP) that made modern Ethernet networks possible.\n",
      "5: Barbara Liskov is a computer scientist recognized for her work in programming languages and system design, including the Liskov Substitution Principle.\n"
     ]
    }
   ],
   "source": [
    "# Hello world\n",
    "print(\"Hello world, I am coding in Python!\")\n",
    "\n",
    "# Working with a list of text entries\n",
    "knowledge_base = [\n",
    "    {\"id\": 1, \"text\": \"Ada Lovelace is considered the first computer programmer for her work on Charles Babbage's Analytical Engine.\"},\n",
    "    {\"id\": 2, \"text\": \"Grace Hopper was a pioneer in computer programming and developed the first compiler for a computer programming language.\"},\n",
    "    {\"id\": 3, \"text\": \"Katherine Johnson was a mathematician whose calculations of orbital mechanics were critical to the success of NASA's space missions.\"},\n",
    "    {\"id\": 4, \"text\": \"Radia Perlman is known as the 'Mother of the Internet' for her invention of the spanning-tree protocol (STP) that made modern Ethernet networks possible.\"},\n",
    "    {\"id\": 5, \"text\": \"Barbara Liskov is a computer scientist recognized for her work in programming languages and system design, including the Liskov Substitution Principle.\"}\n",
    "]\n",
    "\n",
    "# Print all entries\n",
    "for entry in knowledge_base:\n",
    "    print(f\"{entry['id']}: {entry['text']}\")\n",
    "\n"
   ]
  },
  {
   "cell_type": "code",
   "execution_count": null,
   "id": "d2321256-4328-435e-bac6-c5fb65398594",
   "metadata": {},
   "outputs": [],
   "source": []
  }
 ],
 "metadata": {
  "kernelspec": {
   "display_name": "Python 3 (ipykernel)",
   "language": "python",
   "name": "python3"
  },
  "language_info": {
   "codemirror_mode": {
    "name": "ipython",
    "version": 3
   },
   "file_extension": ".py",
   "mimetype": "text/x-python",
   "name": "python",
   "nbconvert_exporter": "python",
   "pygments_lexer": "ipython3",
   "version": "3.12.3"
  }
 },
 "nbformat": 4,
 "nbformat_minor": 5
}
